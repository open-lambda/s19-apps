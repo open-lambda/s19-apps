{
 "cells": [
  {
   "cell_type": "markdown",
   "metadata": {},
   "source": [
    "# LamPy"
   ]
  },
  {
   "cell_type": "markdown",
   "metadata": {},
   "source": [
    "## Short-term Goal \n",
    "\n",
    "1. Wrapper: A wrapper of `numpy`\n",
    "2. Scheduling: Take over the scheduling of calculation in the cloud"
   ]
  },
  {
   "cell_type": "markdown",
   "metadata": {},
   "source": [
    "## Development"
   ]
  },
  {
   "cell_type": "markdown",
   "metadata": {},
   "source": [
    "### Version 1: Support very simple calculation."
   ]
  },
  {
   "cell_type": "code",
   "execution_count": 145,
   "metadata": {},
   "outputs": [],
   "source": [
    "import numpy as np"
   ]
  },
  {
   "cell_type": "code",
   "execution_count": 207,
   "metadata": {},
   "outputs": [],
   "source": [
    "class LamObject():\n",
    "    def __init__(self, val=None):\n",
    "        if isinstance(val, numpy.ndarray):\n",
    "            self.val = val\n",
    "        else:\n",
    "            self.val = np.array(val)\n",
    "        \n",
    "    def __add__(self, obj):\n",
    "        print(f\"Doing {self.val} + {obj.val}\")\n",
    "        return LamObject(self.val + obj.val)\n",
    "    \n",
    "    def __str__(self):\n",
    "        return self.val.__str__()\n",
    "\n",
    "    def __repr__(self):\n",
    "        return self.val.__str__()"
   ]
  },
  {
   "cell_type": "code",
   "execution_count": 208,
   "metadata": {},
   "outputs": [
    {
     "name": "stdout",
     "output_type": "stream",
     "text": [
      "Doing [1 2 3] + [1 2 3]\n"
     ]
    }
   ],
   "source": [
    "a = LamObject([1,2,3])\n",
    "b = LamObject([1,2,3])\n",
    "c = a + b"
   ]
  },
  {
   "cell_type": "code",
   "execution_count": 209,
   "metadata": {},
   "outputs": [
    {
     "data": {
      "text/plain": [
       "[2 4 6]"
      ]
     },
     "execution_count": 209,
     "metadata": {},
     "output_type": "execute_result"
    }
   ],
   "source": [
    "c"
   ]
  },
  {
   "cell_type": "markdown",
   "metadata": {},
   "source": [
    "### Version 2: Create a graph diagraph of the Lampy object"
   ]
  },
  {
   "cell_type": "code",
   "execution_count": 237,
   "metadata": {},
   "outputs": [],
   "source": [
    "class LamObject():\n",
    "    def __init__(self, val=None, children=[]):\n",
    "        self.children = []   # [LamObject]\n",
    "        if isinstance(val, numpy.ndarray):\n",
    "            self.val = val\n",
    "        else:\n",
    "            self.val = np.array(val)\n",
    "        \n",
    "    def run(self):\n",
    "        if not len(self.children):\n",
    "            return self.val\n",
    "        for i in self.children:\n",
    "            i.run()\n",
    "        self.val = \n",
    "        \n",
    "        \n",
    "    def __add__(self, obj):\n",
    "        return LamObject(val=None, children=[self, obj])\n",
    "    \n",
    "    def __str__(self):\n",
    "        return self.val.__str__()\n",
    "\n",
    "    def __repr__(self):\n",
    "        return self.val.__str__()"
   ]
  },
  {
   "cell_type": "code",
   "execution_count": 238,
   "metadata": {},
   "outputs": [
    {
     "data": {
      "text/plain": [
       "__main__.LamObject"
      ]
     },
     "execution_count": 238,
     "metadata": {},
     "output_type": "execute_result"
    }
   ],
   "source": [
    "a = LamObject([1,2,3])\n",
    "type(a)"
   ]
  },
  {
   "cell_type": "code",
   "execution_count": 239,
   "metadata": {},
   "outputs": [
    {
     "data": {
      "text/plain": [
       "__main__.LamObject"
      ]
     },
     "execution_count": 239,
     "metadata": {},
     "output_type": "execute_result"
    }
   ],
   "source": [
    "b = LamObject([1,2,3])\n",
    "type(b)"
   ]
  },
  {
   "cell_type": "code",
   "execution_count": 240,
   "metadata": {},
   "outputs": [
    {
     "data": {
      "text/plain": [
       "__main__.LamObject"
      ]
     },
     "execution_count": 240,
     "metadata": {},
     "output_type": "execute_result"
    }
   ],
   "source": [
    "c = a + b\n",
    "type(c)"
   ]
  },
  {
   "cell_type": "code",
   "execution_count": 241,
   "metadata": {},
   "outputs": [
    {
     "data": {
      "text/plain": [
       "None"
      ]
     },
     "execution_count": 241,
     "metadata": {},
     "output_type": "execute_result"
    }
   ],
   "source": [
    "c"
   ]
  },
  {
   "cell_type": "code",
   "execution_count": 242,
   "metadata": {},
   "outputs": [
    {
     "name": "stdout",
     "output_type": "stream",
     "text": [
      "End None\n"
     ]
    },
    {
     "data": {
      "text/plain": [
       "array(None, dtype=object)"
      ]
     },
     "execution_count": 242,
     "metadata": {},
     "output_type": "execute_result"
    }
   ],
   "source": [
    "c.run()"
   ]
  },
  {
   "cell_type": "code",
   "execution_count": 236,
   "metadata": {},
   "outputs": [
    {
     "data": {
      "text/plain": [
       "None"
      ]
     },
     "execution_count": 236,
     "metadata": {},
     "output_type": "execute_result"
    }
   ],
   "source": [
    "c"
   ]
  },
  {
   "cell_type": "code",
   "execution_count": null,
   "metadata": {},
   "outputs": [],
   "source": []
  }
 ],
 "metadata": {
  "kernelspec": {
   "display_name": "Python 3",
   "language": "python",
   "name": "python3"
  },
  "language_info": {
   "codemirror_mode": {
    "name": "ipython",
    "version": 3
   },
   "file_extension": ".py",
   "mimetype": "text/x-python",
   "name": "python",
   "nbconvert_exporter": "python",
   "pygments_lexer": "ipython3",
   "version": "3.7.0"
  }
 },
 "nbformat": 4,
 "nbformat_minor": 2
}
