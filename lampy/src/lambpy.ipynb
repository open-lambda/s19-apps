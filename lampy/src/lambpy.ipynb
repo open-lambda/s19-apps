{
 "cells": [
  {
   "cell_type": "markdown",
   "metadata": {},
   "source": [
    "# Lampy White Paper"
   ]
  },
  {
   "cell_type": "markdown",
   "metadata": {},
   "source": [
    "**Big Questions**\n",
    "\n",
    "1. What to expect from Lampy? What not to expect (and probably use the concepts from Tensorflow / Numpy / Thrust / etc. )?\n",
    "2. Final goal for the semester.\n",
    "\n",
    "\n",
    "**What people already have?**\n",
    "\n",
    "- [Tensorflow: Partitioning and Scheduling](https://www.tensorflow.org/guide/extend/architecture): provide the architecture of how tensorflow do massive computing on mobile and cloud devices. It _includes_ mobile devices, IoT network. \n",
    "\n",
    "**What Lampy should do now?**\n",
    "1. **Better scheduling.**. More flexible to control Lambda resources. Lampy provide expected computation time / computation resource requirement to provision the size of computation. The infrastructure can utilize the information and potentially boost the information. Acquiring information from application and notify the insfrastructure helps us to potentially pre-heat the Lambdas so as to avoid cold start. \n",
    "2. **Tolerance of failure.** What should we do when one lambda failed? How should application communicate with OpenLambda and relaunch the job? \n",
    "99. (Not this semester) Optimization of computation on Edge Device.\n",
    "\n",
    "**Final Goal**\n",
    "1. Build speech diarazation algorithm (Fisher Linear Semi-Discriminant Analysis Algorithm) on Lampy.\n",
    "2. Compare tensorflow and Lampy (and see how to win?)"
   ]
  },
  {
   "cell_type": "code",
   "execution_count": null,
   "metadata": {},
   "outputs": [],
   "source": []
  },
  {
   "cell_type": "markdown",
   "metadata": {},
   "source": [
    "# LamPy - Development Log"
   ]
  },
  {
   "cell_type": "markdown",
   "metadata": {},
   "source": [
    "## Short-term Goal \n",
    "\n",
    "1. Wrapper: A wrapper of `numpy`\n",
    "2. Scheduling: Take over the scheduling of calculation in the cloud"
   ]
  },
  {
   "cell_type": "markdown",
   "metadata": {},
   "source": [
    "## Thinkings of Development\n",
    "\n",
    "This little `Lampy` use `+` operator as an example and show how we want to develop the Lampy idea."
   ]
  },
  {
   "cell_type": "markdown",
   "metadata": {},
   "source": [
    "### Version 1: Support very simple calculation."
   ]
  },
  {
   "cell_type": "code",
   "execution_count": 145,
   "metadata": {},
   "outputs": [],
   "source": [
    "import numpy as np"
   ]
  },
  {
   "cell_type": "code",
   "execution_count": 207,
   "metadata": {},
   "outputs": [],
   "source": [
    "class LamObject():\n",
    "    def __init__(self, val=None):\n",
    "        if isinstance(val, numpy.ndarray):\n",
    "            self.val = val\n",
    "        else:\n",
    "            self.val = np.array(val)\n",
    "        \n",
    "    def __add__(self, obj):\n",
    "        print(f\"Doing {self.val} + {obj.val}\")\n",
    "        return LamObject(self.val + obj.val)\n",
    "    \n",
    "    def __str__(self):\n",
    "        return self.val.__str__()\n",
    "\n",
    "    def __repr__(self):\n",
    "        return self.val.__str__()"
   ]
  },
  {
   "cell_type": "code",
   "execution_count": 208,
   "metadata": {},
   "outputs": [
    {
     "name": "stdout",
     "output_type": "stream",
     "text": [
      "Doing [1 2 3] + [1 2 3]\n"
     ]
    }
   ],
   "source": [
    "a = LamObject([1,2,3])\n",
    "b = LamObject([1,2,3])\n",
    "c = a + b"
   ]
  },
  {
   "cell_type": "code",
   "execution_count": 209,
   "metadata": {},
   "outputs": [
    {
     "data": {
      "text/plain": [
       "[2 4 6]"
      ]
     },
     "execution_count": 209,
     "metadata": {},
     "output_type": "execute_result"
    }
   ],
   "source": [
    "c"
   ]
  },
  {
   "cell_type": "markdown",
   "metadata": {},
   "source": [
    "### Version 2: Create a graph diagraph of the Lampy object"
   ]
  },
  {
   "cell_type": "code",
   "execution_count": 385,
   "metadata": {},
   "outputs": [],
   "source": [
    "class LamObject():\n",
    "    def __init__(self, val=None, children=[]):\n",
    "        self.children = children   # [LamObject]\n",
    "        if isinstance(val, numpy.ndarray):\n",
    "            self.val = val\n",
    "        else:\n",
    "            self.val = np.array(val)\n",
    "        \n",
    "    def run(self):\n",
    "        if not len(self.children):\n",
    "            return self.val\n",
    "        for i in self.children:\n",
    "            i.run()\n",
    "        sum = self.children[0].val\n",
    "        for i in self.children[1:]:\n",
    "            sum += i.val\n",
    "        self.val = sum\n",
    "        return sum\n",
    "        \n",
    "        \n",
    "    def __add__(self, obj):\n",
    "        return LamObject(val=None, children=[self, obj])\n",
    "    \n",
    "    def __str__(self):\n",
    "        return self.val.__str__()\n",
    "\n",
    "#     def __repr__(self):\n",
    "#         return self.val.__str__()"
   ]
  },
  {
   "cell_type": "code",
   "execution_count": 393,
   "metadata": {},
   "outputs": [],
   "source": [
    "a = LamObject([1,2,3])\n",
    "b = LamObject([1,2,3])\n",
    "d = LamObject([4])\n",
    "\n",
    "c = a + b + d"
   ]
  },
  {
   "cell_type": "code",
   "execution_count": 394,
   "metadata": {},
   "outputs": [
    {
     "data": {
      "text/plain": [
       "(array(None, dtype=object),\n",
       " [<__main__.LamObject at 0x10e776550>, <__main__.LamObject at 0x10e7764e0>])"
      ]
     },
     "execution_count": 394,
     "metadata": {},
     "output_type": "execute_result"
    }
   ],
   "source": [
    "c.val, c.children"
   ]
  },
  {
   "cell_type": "code",
   "execution_count": 395,
   "metadata": {},
   "outputs": [
    {
     "data": {
      "text/plain": [
       "array([ 6,  8, 10])"
      ]
     },
     "execution_count": 395,
     "metadata": {},
     "output_type": "execute_result"
    }
   ],
   "source": [
    "c.run()"
   ]
  },
  {
   "cell_type": "code",
   "execution_count": 396,
   "metadata": {},
   "outputs": [
    {
     "data": {
      "text/plain": [
       "array([ 6,  8, 10])"
      ]
     },
     "execution_count": 396,
     "metadata": {},
     "output_type": "execute_result"
    }
   ],
   "source": [
    "c.val"
   ]
  },
  {
   "cell_type": "markdown",
   "metadata": {},
   "source": [
    "## Version 3: Scheduling"
   ]
  },
  {
   "cell_type": "markdown",
   "metadata": {},
   "source": [
    "As a prototype, we manually configurate the array and make it split in to certain size.\n",
    "For example, we have two matrix $a$, $b$ that goes:\n",
    "\n",
    "$$\n",
    "a = \\begin{bmatrix} \n",
    "1 & 2 & 3 & 4\\\\ \n",
    "1 & 2 & 3 & 4\\\\ \n",
    "1 & 2 & 3 & 4\\\\\n",
    "1 & 2 & 3 & 4\n",
    "\\end{bmatrix}\n",
    ",\n",
    "b = \\begin{bmatrix} \n",
    "1 & 2 & 3 & 4\\\\ \n",
    "1 & 2 & 3 & 4\\\\ \n",
    "1 & 2 & 3 & 4\\\\\n",
    "1 & 2 & 3 & 4\n",
    "\\end{bmatrix}\n",
    "$$\n",
    "\n",
    "Then we split them intpu four sub matrices, each 2-by-2, and then schedule the operation (in local environment, for now -- we will do the I/O and remote scheduling a bit later)"
   ]
  },
  {
   "cell_type": "code",
   "execution_count": 415,
   "metadata": {},
   "outputs": [],
   "source": [
    "# ############\n",
    "# Haven't done with the functionality\n",
    "#############\n",
    "class LamObject():\n",
    "    def __init__(self, val=None, children=[], config=None):\n",
    "        self.children = children   # [LamObject]\n",
    "        self.config = config       # Configuration Inforamtion\n",
    "        if isinstance(val, numpy.ndarray):\n",
    "            self.val = val\n",
    "        else:\n",
    "            self.val = np.array(val)\n",
    "        \n",
    "    def size(self):\n",
    "        return self.val.shape\n",
    "\n",
    "    def run(self):\n",
    "        if not len(self.children):\n",
    "            return self.val\n",
    "        for i in self.children:\n",
    "            i.run()\n",
    "        sum = self.children[0].val\n",
    "        for i in self.children[1:]:\n",
    "            sum += i.val\n",
    "        self.val = sum\n",
    "        return sum\n",
    "    \n",
    "    def config(submatrix=None):\n",
    "        \"\"\"\n",
    "        # In this implementation we assume:\n",
    "        #   1. We know what our children's size are prior computation by calling `val.shape`.\n",
    "        #      (This point can be refined by specifying pre-defined input of the shape, or let's think of other methods to dynamically do this )\n",
    "        #   2. We don't care about the fact that the splitting of matrix in memory will incur overhead. We will try to solve it in the next try\n",
    "        \"\"\"\n",
    "        pass\n",
    "#         if submatrix is None:\n",
    "#             return\n",
    "            \n",
    "\n",
    "        \n",
    "        \n",
    "    def __add__(self, obj):\n",
    "        return LamObject(val=None, children=[self, obj])\n",
    "    \n",
    "    def __str__(self):\n",
    "        return self.val.__str__()\n",
    "\n",
    "#     def __repr__(self):\n",
    "#         return self.val.__str__()"
   ]
  },
  {
   "cell_type": "code",
   "execution_count": 414,
   "metadata": {},
   "outputs": [],
   "source": [
    "a = LamObject([\n",
    "[1,2,3,4],\n",
    "[1,2,3,4],\n",
    "[1,2,3,4],\n",
    "[1,2,3,4]\n",
    "])\n",
    "b = LamObject([\n",
    "[1,2,3,4],\n",
    "[1,2,3,4],\n",
    "[1,2,3,4],\n",
    "[1,2,3,4]\n",
    "])\n",
    "\n",
    "c = a + b"
   ]
  },
  {
   "cell_type": "code",
   "execution_count": 401,
   "metadata": {},
   "outputs": [
    {
     "data": {
      "text/plain": [
       "array([[2, 4, 6, 8],\n",
       "       [2, 4, 6, 8],\n",
       "       [2, 4, 6, 8],\n",
       "       [2, 4, 6, 8]])"
      ]
     },
     "execution_count": 401,
     "metadata": {},
     "output_type": "execute_result"
    }
   ],
   "source": [
    "c.config(submatrix=[2,2]) # Run with 2x2 submatrix\n",
    "c.run()"
   ]
  },
  {
   "cell_type": "code",
   "execution_count": null,
   "metadata": {},
   "outputs": [],
   "source": []
  },
  {
   "cell_type": "code",
   "execution_count": 406,
   "metadata": {},
   "outputs": [],
   "source": [
    "a = np.array([\n",
    "[1,2,3,4],\n",
    "[1,2,3,4],\n",
    "[1,2,3,4],\n",
    "[1,2,3,4]\n",
    "])"
   ]
  },
  {
   "cell_type": "code",
   "execution_count": 412,
   "metadata": {},
   "outputs": [
    {
     "data": {
      "text/plain": [
       "(4, 4)"
      ]
     },
     "execution_count": 412,
     "metadata": {},
     "output_type": "execute_result"
    }
   ],
   "source": [
    "a.shape"
   ]
  },
  {
   "cell_type": "code",
   "execution_count": null,
   "metadata": {},
   "outputs": [],
   "source": []
  },
  {
   "cell_type": "markdown",
   "metadata": {},
   "source": [
    "## Version 4: Delay Input"
   ]
  },
  {
   "cell_type": "code",
   "execution_count": null,
   "metadata": {},
   "outputs": [],
   "source": []
  }
 ],
 "metadata": {
  "kernelspec": {
   "display_name": "Python 3",
   "language": "python",
   "name": "python3"
  },
  "language_info": {
   "codemirror_mode": {
    "name": "ipython",
    "version": 3
   },
   "file_extension": ".py",
   "mimetype": "text/x-python",
   "name": "python",
   "nbconvert_exporter": "python",
   "pygments_lexer": "ipython3",
   "version": "3.7.0"
  }
 },
 "nbformat": 4,
 "nbformat_minor": 2
}
